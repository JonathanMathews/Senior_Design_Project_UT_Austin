{
 "cells": [
  {
   "cell_type": "code",
   "execution_count": 3,
   "metadata": {},
   "outputs": [],
   "source": [
    "# Importing libraries\n",
    "import numpy as np\n",
    "import pandas as pd\n",
    "import tensorflow as tf\n",
    "from tensorflow.keras import layers, models\n",
    "import os\n",
    "import nilearn as nil\n",
    "from nilearn import *\n",
    "import nibabel as nib\n",
    "from scipy import ndimage\n",
    "from sklearn.model_selection import train_test_split\n",
    "from skimage.transform import resize\n",
    "from sklearn.metrics import RocCurveDisplay, confusion_matrix\n",
    "import matplotlib.pyplot as plt"
   ]
  },
  {
   "cell_type": "markdown",
   "metadata": {},
   "source": [
    "# Extracting and processing image data\n",
    "\n",
    "- Form 3D matrix structure\n",
    "- List of images"
   ]
  },
  {
   "cell_type": "code",
   "execution_count": 4,
   "metadata": {},
   "outputs": [],
   "source": [
    "MRIPathPD = './MRI/PPMI_PD'\n",
    "\n",
    "MRIsPD = []\n",
    "\n",
    "for root, dirs, files in os.walk(MRIPathPD):\n",
    "    \n",
    "    for file in files:\n",
    "        \n",
    "        scanPath = os.path.join(root, file)\n",
    "        rawScan = nil.image.load_img(scanPath)\n",
    "        \n",
    "        niftiFile = nil.image.get_data(rawScan)\n",
    "        \n",
    "        depthFactor = 64 / niftiFile.shape[0]\n",
    "        widthFactor = 128 / niftiFile.shape[1]\n",
    "        heightFactor = 128 / niftiFile.shape[2]\n",
    "        \n",
    "        PDScan = ndimage.zoom(niftiFile, (depthFactor, widthFactor, heightFactor, 1), order = 1)\n",
    "        \n",
    "        meanVal = np.mean(PDScan)\n",
    "        stdVal = np.std(PDScan)\n",
    "        \n",
    "        normNifti = (PDScan - meanVal) / (stdVal)\n",
    "        \n",
    "        MRIsPD.append(normNifti)\n",
    "\n",
    "PDLabels = np.ones(len(MRIsPD))"
   ]
  },
  {
   "cell_type": "code",
   "execution_count": 6,
   "metadata": {},
   "outputs": [],
   "source": [
    "MRIPathHealth = './MRI/PPMI_Healthy'\n",
    "\n",
    "MRIsHealth = []\n",
    "\n",
    "for root, dirs, files in os.walk(MRIPathHealth):\n",
    "    \n",
    "    for file in files:\n",
    "        \n",
    "        scanPath = os.path.join(root, file)\n",
    "        rawScan = nil.image.load_img(scanPath)\n",
    "        \n",
    "        niftiFile = nil.image.get_data(rawScan)\n",
    "        \n",
    "        depthFactor = 64 / niftiFile.shape[0]\n",
    "        widthFactor = 128 / niftiFile.shape[1]\n",
    "        heightFactor = 128 / niftiFile.shape[2]\n",
    "        \n",
    "        healthyScan = ndimage.zoom(niftiFile, (depthFactor, widthFactor, heightFactor, 1), order = 1)\n",
    "        \n",
    "        meanVal = np.mean(healthyScan)\n",
    "        stdVal = np.std(healthyScan)\n",
    "        \n",
    "        normNifti = (healthyScan - meanVal) / (stdVal)\n",
    "        \n",
    "        MRIsHealth.append(normNifti)\n",
    "        \n",
    "healthLabels = np.zeros(len(MRIsHealth))"
   ]
  },
  {
   "cell_type": "code",
   "execution_count": 11,
   "metadata": {},
   "outputs": [],
   "source": [
    "MRIsPD = np.asarray(MRIsPD, dtype = object)\n",
    "MRIsHealth = np.asarray(MRIsHealth, dtype = object)\n",
    "\n",
    "MRIsPD = tf.convert_to_tensor(MRIsPD, dtype = tf.float32)\n",
    "MRIsHealth = tf.convert_to_tensor(MRIsHealth, dtype = tf.float32)"
   ]
  },
  {
   "cell_type": "code",
   "execution_count": 12,
   "metadata": {},
   "outputs": [],
   "source": [
    "MRIsTrain = tf.concat(values = [MRIsPD[0:18], MRIsHealth[0:18]], axis = 0)\n",
    "MRIsTest = tf.concat(values = [MRIsPD[18:], MRIsHealth[18:]], axis = 0)\n",
    "\n",
    "labelsTrain = np.concatenate((PDLabels[0:18], healthLabels[0:18]))\n",
    "labelsTest = np.concatenate((PDLabels[18:], healthLabels[18:]))\n",
    "\n",
    "labelsTrain = tf.convert_to_tensor(labelsTrain)\n",
    "labelsTest = tf.convert_to_tensor(labelsTest)"
   ]
  },
  {
   "cell_type": "code",
   "execution_count": 20,
   "metadata": {},
   "outputs": [],
   "source": [
    "inputs = tf.keras.Input((64, 128, 128, 1))\n",
    "\n",
    "x = layers.Conv3D(filters=64, kernel_size=3, activation='relu')(inputs)\n",
    "x = layers.BatchNormalization()(x)\n",
    "x = layers.Conv3D(filters=64, kernel_size=3, activation='relu')(x)\n",
    "x = layers.MaxPool3D(pool_size=2)(x)\n",
    "x = layers.BatchNormalization()(x)\n",
    "\n",
    "x = layers.Conv3D(filters=128, kernel_size=3, activation='relu')(inputs)\n",
    "x = layers.BatchNormalization()(x)\n",
    "x = layers.Conv3D(filters=256, kernel_size=3, activation='relu')(x)\n",
    "x = layers.MaxPool3D(pool_size=2)(x)\n",
    "x = layers.BatchNormalization()(x)\n",
    "\n",
    "x = layers.GlobalAveragePooling3D()(x)\n",
    "\n",
    "x = layers.Dense(units=100, activation='relu')(x)\n",
    "x = layers.Dropout(0.4)(x)\n",
    "x = layers.Dense(units=10, activation='relu')(x)\n",
    "x = layers.Dropout(0.3)(x)\n",
    "\n",
    "outputs = layers.Dense(units=2, activation='relu')(x)\n",
    "\n",
    "# Define the model.\n",
    "CNN3D = tf.keras.Model(inputs, outputs, name='CNN_3D')"
   ]
  },
  {
   "cell_type": "code",
   "execution_count": 21,
   "metadata": {},
   "outputs": [
    {
     "name": "stdout",
     "output_type": "stream",
     "text": [
      "Epoch 1/10\n"
     ]
    },
    {
     "ename": "ResourceExhaustedError",
     "evalue": "Graph execution error:\n\nDetected at node 'CNN_3D/conv3d_10/Conv3D' defined at (most recent call last):\n    File \"C:\\Users\\jonma\\anaconda3\\envs\\parkinsons_model\\lib\\runpy.py\", line 193, in _run_module_as_main\n      \"__main__\", mod_spec)\n    File \"C:\\Users\\jonma\\anaconda3\\envs\\parkinsons_model\\lib\\runpy.py\", line 85, in _run_code\n      exec(code, run_globals)\n    File \"C:\\Users\\jonma\\anaconda3\\envs\\parkinsons_model\\lib\\site-packages\\ipykernel_launcher.py\", line 16, in <module>\n      app.launch_new_instance()\n    File \"C:\\Users\\jonma\\anaconda3\\envs\\parkinsons_model\\lib\\site-packages\\traitlets\\config\\application.py\", line 846, in launch_instance\n      app.start()\n    File \"C:\\Users\\jonma\\anaconda3\\envs\\parkinsons_model\\lib\\site-packages\\ipykernel\\kernelapp.py\", line 677, in start\n      self.io_loop.start()\n    File \"C:\\Users\\jonma\\anaconda3\\envs\\parkinsons_model\\lib\\site-packages\\tornado\\platform\\asyncio.py\", line 199, in start\n      self.asyncio_loop.run_forever()\n    File \"C:\\Users\\jonma\\anaconda3\\envs\\parkinsons_model\\lib\\asyncio\\base_events.py\", line 541, in run_forever\n      self._run_once()\n    File \"C:\\Users\\jonma\\anaconda3\\envs\\parkinsons_model\\lib\\asyncio\\base_events.py\", line 1786, in _run_once\n      handle._run()\n    File \"C:\\Users\\jonma\\anaconda3\\envs\\parkinsons_model\\lib\\asyncio\\events.py\", line 88, in _run\n      self._context.run(self._callback, *self._args)\n    File \"C:\\Users\\jonma\\anaconda3\\envs\\parkinsons_model\\lib\\site-packages\\ipykernel\\kernelbase.py\", line 461, in dispatch_queue\n      await self.process_one()\n    File \"C:\\Users\\jonma\\anaconda3\\envs\\parkinsons_model\\lib\\site-packages\\ipykernel\\kernelbase.py\", line 450, in process_one\n      await dispatch(*args)\n    File \"C:\\Users\\jonma\\anaconda3\\envs\\parkinsons_model\\lib\\site-packages\\ipykernel\\kernelbase.py\", line 357, in dispatch_shell\n      await result\n    File \"C:\\Users\\jonma\\anaconda3\\envs\\parkinsons_model\\lib\\site-packages\\ipykernel\\kernelbase.py\", line 652, in execute_request\n      reply_content = await reply_content\n    File \"C:\\Users\\jonma\\anaconda3\\envs\\parkinsons_model\\lib\\site-packages\\ipykernel\\ipkernel.py\", line 359, in do_execute\n      res = shell.run_cell(code, store_history=store_history, silent=silent)\n    File \"C:\\Users\\jonma\\anaconda3\\envs\\parkinsons_model\\lib\\site-packages\\ipykernel\\zmqshell.py\", line 532, in run_cell\n      return super().run_cell(*args, **kwargs)\n    File \"C:\\Users\\jonma\\anaconda3\\envs\\parkinsons_model\\lib\\site-packages\\IPython\\core\\interactiveshell.py\", line 2915, in run_cell\n      raw_cell, store_history, silent, shell_futures)\n    File \"C:\\Users\\jonma\\anaconda3\\envs\\parkinsons_model\\lib\\site-packages\\IPython\\core\\interactiveshell.py\", line 2960, in _run_cell\n      return runner(coro)\n    File \"C:\\Users\\jonma\\anaconda3\\envs\\parkinsons_model\\lib\\site-packages\\IPython\\core\\async_helpers.py\", line 78, in _pseudo_sync_runner\n      coro.send(None)\n    File \"C:\\Users\\jonma\\anaconda3\\envs\\parkinsons_model\\lib\\site-packages\\IPython\\core\\interactiveshell.py\", line 3186, in run_cell_async\n      interactivity=interactivity, compiler=compiler, result=result)\n    File \"C:\\Users\\jonma\\anaconda3\\envs\\parkinsons_model\\lib\\site-packages\\IPython\\core\\interactiveshell.py\", line 3377, in run_ast_nodes\n      if (await self.run_code(code, result,  async_=asy)):\n    File \"C:\\Users\\jonma\\anaconda3\\envs\\parkinsons_model\\lib\\site-packages\\IPython\\core\\interactiveshell.py\", line 3457, in run_code\n      exec(code_obj, self.user_global_ns, self.user_ns)\n    File \"C:\\Users\\jonma\\AppData\\Local\\Temp\\ipykernel_8248\\2196409439.py\", line 3, in <module>\n      training = CNN3D.fit(MRIsTrain, labelsTrain, epochs = 10)\n    File \"C:\\Users\\jonma\\anaconda3\\envs\\parkinsons_model\\lib\\site-packages\\keras\\utils\\traceback_utils.py\", line 64, in error_handler\n      return fn(*args, **kwargs)\n    File \"C:\\Users\\jonma\\anaconda3\\envs\\parkinsons_model\\lib\\site-packages\\keras\\engine\\training.py\", line 1384, in fit\n      tmp_logs = self.train_function(iterator)\n    File \"C:\\Users\\jonma\\anaconda3\\envs\\parkinsons_model\\lib\\site-packages\\keras\\engine\\training.py\", line 1021, in train_function\n      return step_function(self, iterator)\n    File \"C:\\Users\\jonma\\anaconda3\\envs\\parkinsons_model\\lib\\site-packages\\keras\\engine\\training.py\", line 1010, in step_function\n      outputs = model.distribute_strategy.run(run_step, args=(data,))\n    File \"C:\\Users\\jonma\\anaconda3\\envs\\parkinsons_model\\lib\\site-packages\\keras\\engine\\training.py\", line 1000, in run_step\n      outputs = model.train_step(data)\n    File \"C:\\Users\\jonma\\anaconda3\\envs\\parkinsons_model\\lib\\site-packages\\keras\\engine\\training.py\", line 859, in train_step\n      y_pred = self(x, training=True)\n    File \"C:\\Users\\jonma\\anaconda3\\envs\\parkinsons_model\\lib\\site-packages\\keras\\utils\\traceback_utils.py\", line 64, in error_handler\n      return fn(*args, **kwargs)\n    File \"C:\\Users\\jonma\\anaconda3\\envs\\parkinsons_model\\lib\\site-packages\\keras\\engine\\base_layer.py\", line 1096, in __call__\n      outputs = call_fn(inputs, *args, **kwargs)\n    File \"C:\\Users\\jonma\\anaconda3\\envs\\parkinsons_model\\lib\\site-packages\\keras\\utils\\traceback_utils.py\", line 92, in error_handler\n      return fn(*args, **kwargs)\n    File \"C:\\Users\\jonma\\anaconda3\\envs\\parkinsons_model\\lib\\site-packages\\keras\\engine\\functional.py\", line 452, in call\n      inputs, training=training, mask=mask)\n    File \"C:\\Users\\jonma\\anaconda3\\envs\\parkinsons_model\\lib\\site-packages\\keras\\engine\\functional.py\", line 589, in _run_internal_graph\n      outputs = node.layer(*args, **kwargs)\n    File \"C:\\Users\\jonma\\anaconda3\\envs\\parkinsons_model\\lib\\site-packages\\keras\\utils\\traceback_utils.py\", line 64, in error_handler\n      return fn(*args, **kwargs)\n    File \"C:\\Users\\jonma\\anaconda3\\envs\\parkinsons_model\\lib\\site-packages\\keras\\engine\\base_layer.py\", line 1096, in __call__\n      outputs = call_fn(inputs, *args, **kwargs)\n    File \"C:\\Users\\jonma\\anaconda3\\envs\\parkinsons_model\\lib\\site-packages\\keras\\utils\\traceback_utils.py\", line 92, in error_handler\n      return fn(*args, **kwargs)\n    File \"C:\\Users\\jonma\\anaconda3\\envs\\parkinsons_model\\lib\\site-packages\\keras\\layers\\convolutional.py\", line 248, in call\n      outputs = self.convolution_op(inputs, self.kernel)\n    File \"C:\\Users\\jonma\\anaconda3\\envs\\parkinsons_model\\lib\\site-packages\\keras\\layers\\convolutional.py\", line 240, in convolution_op\n      name=self.__class__.__name__)\nNode: 'CNN_3D/conv3d_10/Conv3D'\nOOM when allocating tensor with shape[32,126,126,126,64] and type float on /job:localhost/replica:0/task:0/device:CPU:0 by allocator cpu\n\t [[{{node CNN_3D/conv3d_10/Conv3D}}]]\nHint: If you want to see a list of allocated tensors when OOM happens, add report_tensor_allocations_upon_oom to RunOptions for current allocation info. This isn't available when running in Eager mode.\n [Op:__inference_train_function_2051]",
     "output_type": "error",
     "traceback": [
      "\u001b[1;31m---------------------------------------------------------------------------\u001b[0m",
      "\u001b[1;31mResourceExhaustedError\u001b[0m                    Traceback (most recent call last)",
      "\u001b[1;32m~\\AppData\\Local\\Temp\\ipykernel_8248\\2196409439.py\u001b[0m in \u001b[0;36m<module>\u001b[1;34m\u001b[0m\n\u001b[0;32m      1\u001b[0m \u001b[0mCNN3D\u001b[0m\u001b[1;33m.\u001b[0m\u001b[0mcompile\u001b[0m\u001b[1;33m(\u001b[0m\u001b[0moptimizer\u001b[0m\u001b[1;33m=\u001b[0m\u001b[1;34m'adam'\u001b[0m\u001b[1;33m,\u001b[0m \u001b[0mloss\u001b[0m\u001b[1;33m=\u001b[0m\u001b[0mtf\u001b[0m\u001b[1;33m.\u001b[0m\u001b[0mkeras\u001b[0m\u001b[1;33m.\u001b[0m\u001b[0mlosses\u001b[0m\u001b[1;33m.\u001b[0m\u001b[0mSparseCategoricalCrossentropy\u001b[0m\u001b[1;33m(\u001b[0m\u001b[0mfrom_logits\u001b[0m\u001b[1;33m=\u001b[0m\u001b[1;32mTrue\u001b[0m\u001b[1;33m)\u001b[0m\u001b[1;33m,\u001b[0m \u001b[0mmetrics\u001b[0m\u001b[1;33m=\u001b[0m\u001b[1;33m[\u001b[0m\u001b[1;34m'accuracy'\u001b[0m\u001b[1;33m]\u001b[0m\u001b[1;33m)\u001b[0m\u001b[1;33m\u001b[0m\u001b[1;33m\u001b[0m\u001b[0m\n\u001b[0;32m      2\u001b[0m \u001b[1;33m\u001b[0m\u001b[0m\n\u001b[1;32m----> 3\u001b[1;33m \u001b[0mtraining\u001b[0m \u001b[1;33m=\u001b[0m \u001b[0mCNN3D\u001b[0m\u001b[1;33m.\u001b[0m\u001b[0mfit\u001b[0m\u001b[1;33m(\u001b[0m\u001b[0mMRIsTrain\u001b[0m\u001b[1;33m,\u001b[0m \u001b[0mlabelsTrain\u001b[0m\u001b[1;33m,\u001b[0m \u001b[0mepochs\u001b[0m \u001b[1;33m=\u001b[0m \u001b[1;36m10\u001b[0m\u001b[1;33m)\u001b[0m\u001b[1;33m\u001b[0m\u001b[1;33m\u001b[0m\u001b[0m\n\u001b[0m",
      "\u001b[1;32m~\\anaconda3\\envs\\parkinsons_model\\lib\\site-packages\\keras\\utils\\traceback_utils.py\u001b[0m in \u001b[0;36merror_handler\u001b[1;34m(*args, **kwargs)\u001b[0m\n\u001b[0;32m     65\u001b[0m     \u001b[1;32mexcept\u001b[0m \u001b[0mException\u001b[0m \u001b[1;32mas\u001b[0m \u001b[0me\u001b[0m\u001b[1;33m:\u001b[0m  \u001b[1;31m# pylint: disable=broad-except\u001b[0m\u001b[1;33m\u001b[0m\u001b[1;33m\u001b[0m\u001b[0m\n\u001b[0;32m     66\u001b[0m       \u001b[0mfiltered_tb\u001b[0m \u001b[1;33m=\u001b[0m \u001b[0m_process_traceback_frames\u001b[0m\u001b[1;33m(\u001b[0m\u001b[0me\u001b[0m\u001b[1;33m.\u001b[0m\u001b[0m__traceback__\u001b[0m\u001b[1;33m)\u001b[0m\u001b[1;33m\u001b[0m\u001b[1;33m\u001b[0m\u001b[0m\n\u001b[1;32m---> 67\u001b[1;33m       \u001b[1;32mraise\u001b[0m \u001b[0me\u001b[0m\u001b[1;33m.\u001b[0m\u001b[0mwith_traceback\u001b[0m\u001b[1;33m(\u001b[0m\u001b[0mfiltered_tb\u001b[0m\u001b[1;33m)\u001b[0m \u001b[1;32mfrom\u001b[0m \u001b[1;32mNone\u001b[0m\u001b[1;33m\u001b[0m\u001b[1;33m\u001b[0m\u001b[0m\n\u001b[0m\u001b[0;32m     68\u001b[0m     \u001b[1;32mfinally\u001b[0m\u001b[1;33m:\u001b[0m\u001b[1;33m\u001b[0m\u001b[1;33m\u001b[0m\u001b[0m\n\u001b[0;32m     69\u001b[0m       \u001b[1;32mdel\u001b[0m \u001b[0mfiltered_tb\u001b[0m\u001b[1;33m\u001b[0m\u001b[1;33m\u001b[0m\u001b[0m\n",
      "\u001b[1;32m~\\anaconda3\\envs\\parkinsons_model\\lib\\site-packages\\tensorflow\\python\\eager\\execute.py\u001b[0m in \u001b[0;36mquick_execute\u001b[1;34m(op_name, num_outputs, inputs, attrs, ctx, name)\u001b[0m\n\u001b[0;32m     53\u001b[0m     \u001b[0mctx\u001b[0m\u001b[1;33m.\u001b[0m\u001b[0mensure_initialized\u001b[0m\u001b[1;33m(\u001b[0m\u001b[1;33m)\u001b[0m\u001b[1;33m\u001b[0m\u001b[1;33m\u001b[0m\u001b[0m\n\u001b[0;32m     54\u001b[0m     tensors = pywrap_tfe.TFE_Py_Execute(ctx._handle, device_name, op_name,\n\u001b[1;32m---> 55\u001b[1;33m                                         inputs, attrs, num_outputs)\n\u001b[0m\u001b[0;32m     56\u001b[0m   \u001b[1;32mexcept\u001b[0m \u001b[0mcore\u001b[0m\u001b[1;33m.\u001b[0m\u001b[0m_NotOkStatusException\u001b[0m \u001b[1;32mas\u001b[0m \u001b[0me\u001b[0m\u001b[1;33m:\u001b[0m\u001b[1;33m\u001b[0m\u001b[1;33m\u001b[0m\u001b[0m\n\u001b[0;32m     57\u001b[0m     \u001b[1;32mif\u001b[0m \u001b[0mname\u001b[0m \u001b[1;32mis\u001b[0m \u001b[1;32mnot\u001b[0m \u001b[1;32mNone\u001b[0m\u001b[1;33m:\u001b[0m\u001b[1;33m\u001b[0m\u001b[1;33m\u001b[0m\u001b[0m\n",
      "\u001b[1;31mResourceExhaustedError\u001b[0m: Graph execution error:\n\nDetected at node 'CNN_3D/conv3d_10/Conv3D' defined at (most recent call last):\n    File \"C:\\Users\\jonma\\anaconda3\\envs\\parkinsons_model\\lib\\runpy.py\", line 193, in _run_module_as_main\n      \"__main__\", mod_spec)\n    File \"C:\\Users\\jonma\\anaconda3\\envs\\parkinsons_model\\lib\\runpy.py\", line 85, in _run_code\n      exec(code, run_globals)\n    File \"C:\\Users\\jonma\\anaconda3\\envs\\parkinsons_model\\lib\\site-packages\\ipykernel_launcher.py\", line 16, in <module>\n      app.launch_new_instance()\n    File \"C:\\Users\\jonma\\anaconda3\\envs\\parkinsons_model\\lib\\site-packages\\traitlets\\config\\application.py\", line 846, in launch_instance\n      app.start()\n    File \"C:\\Users\\jonma\\anaconda3\\envs\\parkinsons_model\\lib\\site-packages\\ipykernel\\kernelapp.py\", line 677, in start\n      self.io_loop.start()\n    File \"C:\\Users\\jonma\\anaconda3\\envs\\parkinsons_model\\lib\\site-packages\\tornado\\platform\\asyncio.py\", line 199, in start\n      self.asyncio_loop.run_forever()\n    File \"C:\\Users\\jonma\\anaconda3\\envs\\parkinsons_model\\lib\\asyncio\\base_events.py\", line 541, in run_forever\n      self._run_once()\n    File \"C:\\Users\\jonma\\anaconda3\\envs\\parkinsons_model\\lib\\asyncio\\base_events.py\", line 1786, in _run_once\n      handle._run()\n    File \"C:\\Users\\jonma\\anaconda3\\envs\\parkinsons_model\\lib\\asyncio\\events.py\", line 88, in _run\n      self._context.run(self._callback, *self._args)\n    File \"C:\\Users\\jonma\\anaconda3\\envs\\parkinsons_model\\lib\\site-packages\\ipykernel\\kernelbase.py\", line 461, in dispatch_queue\n      await self.process_one()\n    File \"C:\\Users\\jonma\\anaconda3\\envs\\parkinsons_model\\lib\\site-packages\\ipykernel\\kernelbase.py\", line 450, in process_one\n      await dispatch(*args)\n    File \"C:\\Users\\jonma\\anaconda3\\envs\\parkinsons_model\\lib\\site-packages\\ipykernel\\kernelbase.py\", line 357, in dispatch_shell\n      await result\n    File \"C:\\Users\\jonma\\anaconda3\\envs\\parkinsons_model\\lib\\site-packages\\ipykernel\\kernelbase.py\", line 652, in execute_request\n      reply_content = await reply_content\n    File \"C:\\Users\\jonma\\anaconda3\\envs\\parkinsons_model\\lib\\site-packages\\ipykernel\\ipkernel.py\", line 359, in do_execute\n      res = shell.run_cell(code, store_history=store_history, silent=silent)\n    File \"C:\\Users\\jonma\\anaconda3\\envs\\parkinsons_model\\lib\\site-packages\\ipykernel\\zmqshell.py\", line 532, in run_cell\n      return super().run_cell(*args, **kwargs)\n    File \"C:\\Users\\jonma\\anaconda3\\envs\\parkinsons_model\\lib\\site-packages\\IPython\\core\\interactiveshell.py\", line 2915, in run_cell\n      raw_cell, store_history, silent, shell_futures)\n    File \"C:\\Users\\jonma\\anaconda3\\envs\\parkinsons_model\\lib\\site-packages\\IPython\\core\\interactiveshell.py\", line 2960, in _run_cell\n      return runner(coro)\n    File \"C:\\Users\\jonma\\anaconda3\\envs\\parkinsons_model\\lib\\site-packages\\IPython\\core\\async_helpers.py\", line 78, in _pseudo_sync_runner\n      coro.send(None)\n    File \"C:\\Users\\jonma\\anaconda3\\envs\\parkinsons_model\\lib\\site-packages\\IPython\\core\\interactiveshell.py\", line 3186, in run_cell_async\n      interactivity=interactivity, compiler=compiler, result=result)\n    File \"C:\\Users\\jonma\\anaconda3\\envs\\parkinsons_model\\lib\\site-packages\\IPython\\core\\interactiveshell.py\", line 3377, in run_ast_nodes\n      if (await self.run_code(code, result,  async_=asy)):\n    File \"C:\\Users\\jonma\\anaconda3\\envs\\parkinsons_model\\lib\\site-packages\\IPython\\core\\interactiveshell.py\", line 3457, in run_code\n      exec(code_obj, self.user_global_ns, self.user_ns)\n    File \"C:\\Users\\jonma\\AppData\\Local\\Temp\\ipykernel_8248\\2196409439.py\", line 3, in <module>\n      training = CNN3D.fit(MRIsTrain, labelsTrain, epochs = 10)\n    File \"C:\\Users\\jonma\\anaconda3\\envs\\parkinsons_model\\lib\\site-packages\\keras\\utils\\traceback_utils.py\", line 64, in error_handler\n      return fn(*args, **kwargs)\n    File \"C:\\Users\\jonma\\anaconda3\\envs\\parkinsons_model\\lib\\site-packages\\keras\\engine\\training.py\", line 1384, in fit\n      tmp_logs = self.train_function(iterator)\n    File \"C:\\Users\\jonma\\anaconda3\\envs\\parkinsons_model\\lib\\site-packages\\keras\\engine\\training.py\", line 1021, in train_function\n      return step_function(self, iterator)\n    File \"C:\\Users\\jonma\\anaconda3\\envs\\parkinsons_model\\lib\\site-packages\\keras\\engine\\training.py\", line 1010, in step_function\n      outputs = model.distribute_strategy.run(run_step, args=(data,))\n    File \"C:\\Users\\jonma\\anaconda3\\envs\\parkinsons_model\\lib\\site-packages\\keras\\engine\\training.py\", line 1000, in run_step\n      outputs = model.train_step(data)\n    File \"C:\\Users\\jonma\\anaconda3\\envs\\parkinsons_model\\lib\\site-packages\\keras\\engine\\training.py\", line 859, in train_step\n      y_pred = self(x, training=True)\n    File \"C:\\Users\\jonma\\anaconda3\\envs\\parkinsons_model\\lib\\site-packages\\keras\\utils\\traceback_utils.py\", line 64, in error_handler\n      return fn(*args, **kwargs)\n    File \"C:\\Users\\jonma\\anaconda3\\envs\\parkinsons_model\\lib\\site-packages\\keras\\engine\\base_layer.py\", line 1096, in __call__\n      outputs = call_fn(inputs, *args, **kwargs)\n    File \"C:\\Users\\jonma\\anaconda3\\envs\\parkinsons_model\\lib\\site-packages\\keras\\utils\\traceback_utils.py\", line 92, in error_handler\n      return fn(*args, **kwargs)\n    File \"C:\\Users\\jonma\\anaconda3\\envs\\parkinsons_model\\lib\\site-packages\\keras\\engine\\functional.py\", line 452, in call\n      inputs, training=training, mask=mask)\n    File \"C:\\Users\\jonma\\anaconda3\\envs\\parkinsons_model\\lib\\site-packages\\keras\\engine\\functional.py\", line 589, in _run_internal_graph\n      outputs = node.layer(*args, **kwargs)\n    File \"C:\\Users\\jonma\\anaconda3\\envs\\parkinsons_model\\lib\\site-packages\\keras\\utils\\traceback_utils.py\", line 64, in error_handler\n      return fn(*args, **kwargs)\n    File \"C:\\Users\\jonma\\anaconda3\\envs\\parkinsons_model\\lib\\site-packages\\keras\\engine\\base_layer.py\", line 1096, in __call__\n      outputs = call_fn(inputs, *args, **kwargs)\n    File \"C:\\Users\\jonma\\anaconda3\\envs\\parkinsons_model\\lib\\site-packages\\keras\\utils\\traceback_utils.py\", line 92, in error_handler\n      return fn(*args, **kwargs)\n    File \"C:\\Users\\jonma\\anaconda3\\envs\\parkinsons_model\\lib\\site-packages\\keras\\layers\\convolutional.py\", line 248, in call\n      outputs = self.convolution_op(inputs, self.kernel)\n    File \"C:\\Users\\jonma\\anaconda3\\envs\\parkinsons_model\\lib\\site-packages\\keras\\layers\\convolutional.py\", line 240, in convolution_op\n      name=self.__class__.__name__)\nNode: 'CNN_3D/conv3d_10/Conv3D'\nOOM when allocating tensor with shape[32,126,126,126,64] and type float on /job:localhost/replica:0/task:0/device:CPU:0 by allocator cpu\n\t [[{{node CNN_3D/conv3d_10/Conv3D}}]]\nHint: If you want to see a list of allocated tensors when OOM happens, add report_tensor_allocations_upon_oom to RunOptions for current allocation info. This isn't available when running in Eager mode.\n [Op:__inference_train_function_2051]"
     ]
    }
   ],
   "source": [
    "CNN3D.compile(optimizer='adam', loss=tf.keras.losses.SparseCategoricalCrossentropy(from_logits=True), metrics=['accuracy'])\n",
    "\n",
    "training = CNN3D.fit(MRIsTrain, labelsTrain, epochs = 10)"
   ]
  },
  {
   "cell_type": "code",
   "execution_count": null,
   "metadata": {},
   "outputs": [],
   "source": [
    "loss, accuracy = CNN.evaluate(MRIsTest, labelsTest, verbose = 2)\n",
    "predictionProbs = CNN.predict(MRIsTest, verbose = 2)    # For specificity and sensitivity calculations"
   ]
  },
  {
   "cell_type": "code",
   "execution_count": null,
   "metadata": {},
   "outputs": [],
   "source": [
    "predictionLabels = predictionProbs.argmax(axis = -1)    # Get prediction classes from probabilities\n",
    "\n",
    "tn, fp, fn, tp = confusion_matrix(labelsTest, predictionLabels).ravel()\n",
    "sensitivity = tp / (tp + fn)\n",
    "specificity = tn / (tn + fp)\n",
    "\n",
    "RocCurveDisplay.from_predictions(labelsTest, predictionLabels)\n",
    "plt.savefig('ROC_Curve.png')"
   ]
  },
  {
   "cell_type": "code",
   "execution_count": null,
   "metadata": {},
   "outputs": [],
   "source": [
    "print(\"Model Test Accuracy:\", accuracy)\n",
    "print(\"Model Test Sensitivity:\", sensitivity)\n",
    "print(\"Model Test Specificity:\", specificity)\n",
    "\n",
    "metrics = ['Model Test Accuracy: '+str(accuracy), 'Model Test Sensitivity: '+str(sensitivity), 'Model Test Specificity: '+str(specificity)]\n",
    "with open('3D_CNN_Metrics.txt', 'w') as file:\n",
    "    file.writelines(metrics)"
   ]
  }
 ],
 "metadata": {
  "kernelspec": {
   "display_name": "Python 3",
   "language": "python",
   "name": "python3"
  },
  "language_info": {
   "codemirror_mode": {
    "name": "ipython",
    "version": 3
   },
   "file_extension": ".py",
   "mimetype": "text/x-python",
   "name": "python",
   "nbconvert_exporter": "python",
   "pygments_lexer": "ipython3",
   "version": "3.7.6"
  }
 },
 "nbformat": 4,
 "nbformat_minor": 4
}
