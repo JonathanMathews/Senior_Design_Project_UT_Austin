{
 "cells": [
  {
   "cell_type": "code",
   "execution_count": 1,
   "metadata": {
    "pycharm": {
     "name": "#%%\n"
    }
   },
   "outputs": [],
   "source": [
    "# Importing libraries\n",
    "import numpy as np\n",
    "import pandas as pd\n",
    "import tensorflow as tf\n",
    "from tensorflow.keras import datasets, layers, models\n",
    "import os\n",
    "import nilearn as nil\n",
    "from nilearn import *\n",
    "from pydicom import dcmread\n",
    "from sklearn.model_selection import train_test_split\n",
    "from skimage.transform import resize\n",
    "from sklearn.metrics import RocCurveDisplay, confusion_matrix\n",
    "import matplotlib.pyplot as plt"
   ]
  },
  {
   "cell_type": "markdown",
   "metadata": {
    "pycharm": {
     "name": "#%% md\n"
    }
   },
   "source": [
    "# Extracting and processing image data\n",
    "\n",
    "- Form 3D matrix structure\n",
    "- List of images"
   ]
  },
  {
   "cell_type": "code",
   "execution_count": 2,
   "metadata": {
    "scrolled": true,
    "pycharm": {
     "name": "#%%\n"
    }
   },
   "outputs": [],
   "source": [
    "# Getting MRI images for Parkinson's subjects\n",
    "\n",
    "MRIPathPD = './MRI/PPMI_PD'\n",
    "\n",
    "MRIsPD = []  # Container for all MRI images\n",
    "\n",
    "# Walk down the file tree to obtain all dicom files\n",
    "\n",
    "for root, dirs, files in os.walk(MRIPathPD):\n",
    "    \n",
    "    for file in files:  # Only convert the files\n",
    "        \n",
    "        # Read and extract pixel data from each dicom image\n",
    "        # Resize all images to 64 x 64 size\n",
    "        # Normalize pixel values to be between 0 and 1 (max uint16 value is 65535)\n",
    "        # Add each pixel array to the image container\n",
    "        \n",
    "        rawScan = nil.image.load_img(os.path.join(root, file))\n",
    "        \n",
    "        niftiFile = nil.image.get_data(rawScan)\n",
    "\n",
    "        for i in range(len(niftiFile)):\n",
    "            \n",
    "            # Only selecting the slices that contain the Subthalamic Nucleus\n",
    "            # For sagittal slices:\n",
    "            # 17 mm lateral to the midline to 3 mm lateral to the midline on both sides for both STNs\n",
    "            \n",
    "            midSlice = len(niftiFile) // 2\n",
    "            \n",
    "            leftLowerBound = midSlice - 17\n",
    "            leftUpperBound = midSlice - 3\n",
    "            rightLowerBound = midSlice + 3\n",
    "            rightUpperBound = midSlice + 17\n",
    "            \n",
    "            if ((i >= leftLowerBound) and (i <= leftUpperBound)) or ((i >= rightLowerBound) and (i <= rightUpperBound)):\n",
    "            \n",
    "                meanVal = np.mean(niftiFile[i])\n",
    "                stdVal = np.std(niftiFile[i])\n",
    "        \n",
    "                normNifti = (niftiFile[i] - meanVal) / (stdVal)\n",
    "\n",
    "                MRIsPD.append(normNifti)\n",
    "    \n",
    "# Creating labels based on total number of Parkinson's subjects\n",
    "\n",
    "PDLabels = np.ones(len(MRIsPD))"
   ]
  },
  {
   "cell_type": "code",
   "execution_count": 3,
   "metadata": {
    "pycharm": {
     "name": "#%%\n"
    }
   },
   "outputs": [],
   "source": [
    "# Getting MRI images for healthy subjects\n",
    "\n",
    "MRIPathHealth = './MRI/PPMI_Healthy'\n",
    "\n",
    "MRIsHealth = []  # Container for all MRI images\n",
    "\n",
    "# Walk down the file tree to obtain all dicom files\n",
    "\n",
    "for root, dirs, files in os.walk(MRIPathHealth):\n",
    "    \n",
    "    for file in files:  # Only convert the files\n",
    "        \n",
    "        # Read and extract pixel data from each dicom image\n",
    "        # Resize all images to 64 x 64 size\n",
    "        # Normalize pixel values to be between 0 and 1 (max uint16 value is 65535)\n",
    "        # Add each pixel array to the image container\n",
    "        \n",
    "        rawScan = nil.image.load_img(os.path.join(root, file))\n",
    "\n",
    "        niftiFile = nil.image.get_data(rawScan)\n",
    "        \n",
    "        for i in range(len(niftiFile)):\n",
    "            \n",
    "            # Only selecting the slices that contain the Subthalamic Nucleus\n",
    "            # For sagittal slices:\n",
    "            # 17 mm lateral to the midline to 3 mm lateral to the midline on both sides for both STNs\n",
    "            \n",
    "            midSlice = len(niftiFile) // 2\n",
    "            \n",
    "            leftLowerBound = midSlice - 17\n",
    "            leftUpperBound = midSlice - 3\n",
    "            rightLowerBound = midSlice + 3\n",
    "            rightUpperBound = midSlice + 17\n",
    "            \n",
    "            if ((i >= leftLowerBound) and (i <= leftUpperBound)) or ((i >= rightLowerBound) and (i <= rightUpperBound)):\n",
    "            \n",
    "                meanVal = np.mean(niftiFile[i])\n",
    "                stdVal = np.std(niftiFile[i])\n",
    "        \n",
    "                normNifti = (niftiFile[i] - meanVal) / (stdVal)\n",
    "\n",
    "                MRIsHealth.append(normNifti)\n",
    "    \n",
    "# Creating labels based on total number of healthy subjects\n",
    "\n",
    "healthLabels = np.zeros(len(MRIsHealth))"
   ]
  },
  {
   "cell_type": "markdown",
   "metadata": {
    "pycharm": {
     "name": "#%% md\n"
    }
   },
   "source": [
    "# Forming Model Input"
   ]
  },
  {
   "cell_type": "code",
   "execution_count": 4,
   "metadata": {
    "pycharm": {
     "name": "#%%\n"
    }
   },
   "outputs": [],
   "source": [
    "# Combining image data and labels\n",
    "# Converting lists to numpy arrays\n",
    "\n",
    "MRIsPD = np.array(MRIsPD, dtype=object)\n",
    "MRIsHealth = np.array(MRIsHealth, dtype=object)\n",
    "\n",
    "MRIs = np.vstack((MRIsPD, MRIsHealth))\n",
    "\n",
    "labels = np.append(PDLabels, healthLabels)"
   ]
  },
  {
   "cell_type": "code",
   "execution_count": 5,
   "metadata": {
    "pycharm": {
     "name": "#%%\n"
    }
   },
   "outputs": [],
   "source": [
    "# Splitting data into training and testing sets\n",
    "\n",
    "MRIsTrain, MRIsTest, labelsTrain, labelsTest = train_test_split(MRIs, labels, test_size=0.30, random_state=0, shuffle=True)\n",
    "\n",
    "# Converting outer lists to numpy arrays for model compatibility\n",
    "# 32-bit float type necessary for model\n",
    "\n",
    "MRIsTrain = np.asarray(MRIsTrain).astype('float32')\n",
    "labelsTrain = np.asarray(labelsTrain)\n",
    "MRIsTest = np.asarray(MRIsTest).astype('float32')\n",
    "labelsTest = np.asarray(labelsTest)"
   ]
  },
  {
   "cell_type": "markdown",
   "metadata": {
    "pycharm": {
     "name": "#%% md\n"
    }
   },
   "source": [
    "# Building Convolutional Neural Network"
   ]
  },
  {
   "cell_type": "code",
   "execution_count": 6,
   "metadata": {
    "pycharm": {
     "name": "#%%\n"
    }
   },
   "outputs": [],
   "source": [
    "# Building convolutional neural network model\n",
    "\n",
    "CNN = models.Sequential()\n",
    "\n",
    "# Most common form of convolutional network\n",
    "# Alternating Conv2D and MaxPooling2D layers\n",
    "# Input shape to first layer is (Image Height, Image Width, # of Color Channels)\n",
    "\n",
    "CNN.add(layers.Conv2D(128, (3, 3), activation='relu', input_shape=(256, 256, 1)))  # Grayscale slices = 1 color channel\n",
    "CNN.add(layers.MaxPooling2D(pool_size = (2, 2)))\n",
    "CNN.add(layers.Conv2D(64, (3, 3), activation='relu'))\n",
    "CNN.add(layers.MaxPooling2D(pool_size = (2, 2)))\n",
    "CNN.add(layers.Conv2D(32, (3, 3), activation='relu'))\n",
    "\n",
    "# Classification layer necessary after convolution\n",
    "\n",
    "CNN.add(layers.Flatten())\n",
    "CNN.add(layers.Dense(128, activation='relu'))\n",
    "CNN.add(layers.Dense(2, activation='relu'))  # 2 classes: Healthy (0), Parkinsons (1)"
   ]
  },
  {
   "cell_type": "markdown",
   "metadata": {
    "pycharm": {
     "name": "#%% md\n"
    }
   },
   "source": [
    "# Training and Testing Model"
   ]
  },
  {
   "cell_type": "code",
   "execution_count": 7,
   "metadata": {
    "pycharm": {
     "name": "#%%\n"
    }
   },
   "outputs": [
    {
     "name": "stdout",
     "output_type": "stream",
     "text": [
      "Epoch 1/3\n",
      "31/31 [==============================] - 152s 5s/step - loss: 0.7175 - accuracy: 0.5072\n",
      "Epoch 2/3\n",
      "31/31 [==============================] - 132s 4s/step - loss: 0.5515 - accuracy: 0.7578\n",
      "Epoch 3/3\n",
      "31/31 [==============================] - 130s 4s/step - loss: 0.4861 - accuracy: 0.9141\n"
     ]
    }
   ],
   "source": [
    "# Training model\n",
    "\n",
    "callback = tf.keras.callbacks.EarlyStopping(monitor='loss', patience=3)\n",
    "\n",
    "CNN.compile(optimizer='adam', loss=tf.keras.losses.SparseCategoricalCrossentropy(from_logits=True), metrics=['accuracy'])\n",
    "\n",
    "training = CNN.fit(MRIsTrain, labelsTrain, epochs=3, shuffle=True, callbacks=[callback])"
   ]
  },
  {
   "cell_type": "code",
   "execution_count": 8,
   "metadata": {
    "pycharm": {
     "name": "#%%\n"
    }
   },
   "outputs": [
    {
     "name": "stdout",
     "output_type": "stream",
     "text": [
      "13/13 - 15s - loss: 0.3624 - accuracy: 0.9831 - 15s/epoch - 1s/step\n",
      "13/13 - 13s - 13s/epoch - 1s/step\n"
     ]
    }
   ],
   "source": [
    "# Testing model\n",
    "\n",
    "loss, accuracy = CNN.evaluate(MRIsTest, labelsTest, verbose = 2)\n",
    "predictionProbs = CNN.predict(MRIsTest, verbose = 2)    # For specificity and sensitivity calculations"
   ]
  },
  {
   "cell_type": "code",
   "execution_count": 9,
   "metadata": {
    "pycharm": {
     "name": "#%%\n"
    }
   },
   "outputs": [
    {
     "data": {
      "image/png": "[encoded data removed]",
      "text/plain": [
       "<Figure size 432x288 with 1 Axes>"
      ]
     },
     "metadata": {
      "needs_background": "light"
     },
     "output_type": "display_data"
    }
   ],
   "source": [
    "# Calculating extra metrics\n",
    "\n",
    "predictionLabels = predictionProbs.argmax(axis = -1)    # Get prediction classes from probabilities\n",
    "\n",
    "tn, fp, fn, tp = confusion_matrix(labelsTest, predictionLabels).ravel()\n",
    "sensitivity = tp / (tp + fn)\n",
    "specificity = tn / (tn + fp)\n",
    "\n",
    "rocCurve = RocCurveDisplay.from_predictions(labelsTest, predictionLabels)"
   ]
  },
  {
   "cell_type": "markdown",
   "metadata": {
    "pycharm": {
     "name": "#%% md\n"
    }
   },
   "source": [
    "# Reviewing Model Performance"
   ]
  },
  {
   "cell_type": "code",
   "execution_count": 10,
   "metadata": {
    "pycharm": {
     "name": "#%%\n"
    }
   },
   "outputs": [
    {
     "name": "stdout",
     "output_type": "stream",
     "text": [
      "Model Test Accuracy: 0.9830917716026306\n",
      "Model Test Sensitivity: 0.9766355140186916\n",
      "Model Test Specificity: 0.99\n"
     ]
    }
   ],
   "source": [
    "# Report metrics\n",
    "\n",
    "print(\"Model Test Accuracy:\", accuracy)\n",
    "print(\"Model Test Sensitivity:\", sensitivity)\n",
    "print(\"Model Test Specificity:\", specificity)"
   ]
  }
 ],
 "metadata": {
  "kernelspec": {
   "display_name": "Python 3",
   "language": "python",
   "name": "python3"
  },
  "language_info": {
   "codemirror_mode": {
    "name": "ipython",
    "version": 3
   },
   "file_extension": ".py",
   "mimetype": "text/x-python",
   "name": "python",
   "nbconvert_exporter": "python",
   "pygments_lexer": "ipython3",
   "version": "3.7.6"
  }
 },
 "nbformat": 4,
 "nbformat_minor": 4
}